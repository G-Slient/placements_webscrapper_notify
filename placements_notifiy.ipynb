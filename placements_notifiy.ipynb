{
 "cells": [
  {
   "cell_type": "code",
   "execution_count": 21,
   "metadata": {},
   "outputs": [],
   "source": [
    "import requests\n",
    "from bs4 import BeautifulSoup\n",
    "from datetime import datetime\n",
    "from dateutil import parser\n",
    "\n",
    "headers ={\n",
    "     'user-agent':'Mozilla/5.0 (X11; Linux x86_64) AppleWebKit/537.36 (KHTML, like Gecko) Chrome/69.0.3497.100 Safari/537.36'\n",
    "}\n",
    "\n"
   ]
  },
  {
   "cell_type": "code",
   "execution_count": 22,
   "metadata": {},
   "outputs": [
    {
     "name": "stdin",
     "output_type": "stream",
     "text": [
      "Enter the user_name: gmothy\n",
      "Enter the password: ait98@abcd\n"
     ]
    }
   ],
   "source": [
    "username = input('Enter the user_name:')\n",
    "password = input('Enter the password:')\n"
   ]
  },
  {
   "cell_type": "code",
   "execution_count": null,
   "metadata": {},
   "outputs": [],
   "source": [
    "#url=http://aitplacements.com/wp-login.php"
   ]
  },
  {
   "cell_type": "code",
   "execution_count": 44,
   "metadata": {},
   "outputs": [],
   "source": [
    "def login_website(username,password):\n",
    "    login_data={\n",
    "        'log':username,\n",
    "        'pwd':password,\n",
    "        'wp-submit':'Log In',\n",
    "        'redirect_to':'http://aitplacements.com/wp-admin/',\n",
    "        'testcookie':'1'\n",
    "\n",
    "    }\n",
    "    with requests.Session() as s:\n",
    "        url = \"http://aitplacements.com/wp-login.php\"\n",
    "        r = s.get(url,headers=headers)\n",
    "        soup =BeautifulSoup(r.content,'html.parser')\n",
    "        r = s.post(url, data=login_data, headers=headers)\n",
    "        soup1=BeautifulSoup(r.content,'html.parser')\n",
    "        #print(soup1)\n",
    "        return soup1"
   ]
  },
  {
   "cell_type": "code",
   "execution_count": 42,
   "metadata": {},
   "outputs": [],
   "source": [
    "def send_sms(message):\n",
    "    url = \"https://www.fast2sms.com/dev/bulk\"\n",
    "    payload = \"sender_id=FSTSMS&message={} &language=english&route=p&numbers=7780272224\".format(message)\n",
    "    headers = {\n",
    "    'authorization': \"A91xrCuGW0VNLlvwZk4t6RoiUMDBgPIO8sSXnyf5YdJ32cm7pEo7mSyHFbUhawYvL8dfKlQEpnDTeNqX\",\n",
    "    'Content-Type': \"application/x-www-form-urlencoded\",\n",
    "    'Cache-Control': \"no-cache\",\n",
    "    }\n",
    "    response = requests.request(\"POST\", url, data=payload, headers=headers)\n",
    "    print(response.text)"
   ]
  },
  {
   "cell_type": "code",
   "execution_count": 41,
   "metadata": {},
   "outputs": [],
   "source": [
    "def send_email(dates,title,description):\n",
    "    import smtplib, ssl\n",
    "    from email.mime.text import MIMEText\n",
    "    from email.mime.multipart import MIMEMultipart\n",
    "    port = 465  # For SSL\n",
    "    smtp_server = \"smtp.gmail.com\"\n",
    "    sender_email = \"librarycommunity.2020@gmail.com\"  # Enter your address\n",
    "    receiver_email = \"gobillamothy85@gmail.com\"  # Enter receiver address\n",
    "    password = 'Apple@123'\n",
    "\n",
    "    message = MIMEMultipart(\"alternative\")\n",
    "    message[\"From\"] = sender_email\n",
    "    message[\"To\"] = receiver_email\n",
    "\n",
    "    \n",
    "    message[\"Subject\"] = \"AIT PLACEMENTS NOTIFICATION\"\n",
    "    text = \"\"\"\n",
    "    Hello,\n",
    "    \"\"\"\n",
    "    html = \"\"\"\\\n",
    "    <html>\n",
    "    <body>\n",
    "    <p> {} <br>\n",
    "    There is a new notification about {} <br>\n",
    "    {} <br>\n",
    "    <a href=\"http://aitplacements.com/wp-login.php\">Placements Website Link</a>\n",
    "    </p>\n",
    "    </body>\n",
    "    </html>\n",
    "    \"\"\".format(dates,title,description)\n",
    "    part1 = MIMEText(text, \"plain\")\n",
    "    part2 = MIMEText(html, \"html\")\n",
    "    message.attach(part1)\n",
    "    message.attach(part2)\n",
    "            \n",
    "    context = ssl.create_default_context()\n",
    "    with smtplib.SMTP_SSL(smtp_server, port, context=context) as server:\n",
    "        server.login(sender_email, password)\n",
    "        server.sendmail(sender_email, receiver_email, message.as_string())\n",
    "\n",
    "            "
   ]
  },
  {
   "cell_type": "code",
   "execution_count": null,
   "metadata": {},
   "outputs": [],
   "source": []
  },
  {
   "cell_type": "code",
   "execution_count": null,
   "metadata": {},
   "outputs": [],
   "source": [
    "if __name__=='__main__':\n",
    "    k=0\n",
    "    title=[]\n",
    "    dates={}\n",
    "    description={}\n",
    "    soup1=login_website('gmothy','ait98@abcd')\n",
    "    temp_title,temp_dates,temp_description=compute_data(soup1)\n",
    "    send_email(temp_dates,temp_title,temp_description)"
   ]
  },
  {
   "cell_type": "code",
   "execution_count": 27,
   "metadata": {},
   "outputs": [],
   "source": [
    "t=soup1.find_all('div',attrs={'class':'grid-item grid-sm-6 grid-md-4'})"
   ]
  },
  {
   "cell_type": "code",
   "execution_count": 55,
   "metadata": {},
   "outputs": [
    {
     "data": {
      "text/plain": [
       "[<div class=\"grid-item grid-sm-6 grid-md-4\">\n",
       " <h4 class=\"grid-title\"><a href=\"http://aitplacements.com/uncategorized/whitesnow-for-cit-sudents/\" rel=\"bookmark\">WhiteSnow for C/IT sudents</a></h4>\n",
       " <div class=\"recent-news-meta\">\n",
       " <span class=\"post-date\"><i class=\"fa fa-file-text-o\"></i> <time class=\"entry-date published updated\" datetime=\"2019-02-15T09:48:31+00:00\">February 15, 2019</time></span>\n",
       " <span class=\"comments-link\"><i class=\"fa fa-comments-o\"></i> <a href=\"http://aitplacements.com/uncategorized/whitesnow-for-cit-sudents/#comments\">No Comments</a></span>\n",
       " </div>\n",
       " <p>Greetings from WhiteSnow…!!! Please find the below job description for Freshers Drive. Date of drive: Saturday, 23rd Feb. 2019   Reporting time: 08.30am   ...</p>\n",
       " <a class=\"btn btn-light btn-small\" href=\"http://aitplacements.com/uncategorized/whitesnow-for-cit-sudents/\" title=\"WhiteSnow for C/IT sudents\">Read More</a>\n",
       " </div>, <div class=\"grid-item grid-sm-6 grid-md-4\">\n",
       " <h4 class=\"grid-title\"><a href=\"http://aitplacements.com/uncategorized/renishaw-pool-campus/\" rel=\"bookmark\">Renishaw Pool Campus</a></h4>\n",
       " <div class=\"recent-news-meta\">\n",
       " <span class=\"post-date\"><i class=\"fa fa-file-text-o\"></i> <time class=\"entry-date published updated\" datetime=\"2019-02-15T04:15:35+00:00\">February 15, 2019</time></span>\n",
       " <span class=\"comments-link\"><i class=\"fa fa-comments-o\"></i> <a href=\"http://aitplacements.com/uncategorized/renishaw-pool-campus/#comments\">No Comments</a></span>\n",
       " </div>\n",
       " <p>Refer notification regarding Renishaw on 01 Feb 19. Further schedule and details are given below:- Please note the schedule of Renishaw ...</p>\n",
       " <a class=\"btn btn-light btn-small\" href=\"http://aitplacements.com/uncategorized/renishaw-pool-campus/\" title=\"Renishaw Pool Campus\">Read More</a>\n",
       " </div>, <div class=\"grid-item grid-sm-6 grid-md-4\">\n",
       " <h4 class=\"grid-title\"><a href=\"http://aitplacements.com/uncategorized/vodafone-interview-postponed-to-26-feb/\" rel=\"bookmark\">Vodafone Interview – Postponed to 26 Feb</a></h4>\n",
       " <div class=\"recent-news-meta\">\n",
       " <span class=\"post-date\"><i class=\"fa fa-file-text-o\"></i> <time class=\"entry-date published updated\" datetime=\"2019-02-15T04:04:25+00:00\">February 15, 2019</time></span>\n",
       " <span class=\"comments-link\"><i class=\"fa fa-comments-o\"></i> <a href=\"http://aitplacements.com/uncategorized/vodafone-interview-postponed-to-26-feb/#comments\">No Comments</a></span>\n",
       " </div>\n",
       " <p>Mail received from Vodafone:- This is to Inform you that due to some criticality we will have to postpone personal interview ...</p>\n",
       " <a class=\"btn btn-light btn-small\" href=\"http://aitplacements.com/uncategorized/vodafone-interview-postponed-to-26-feb/\" title=\"Vodafone Interview – Postponed to 26 Feb\">Read More</a>\n",
       " </div>, <div class=\"grid-item grid-sm-6 grid-md-4\">\n",
       " <h4 class=\"grid-title\"><a href=\"http://aitplacements.com/uncategorized/amazon-diversity-hiring-event-women-of-the-world/\" rel=\"bookmark\">Amazon diversity hiring event || WOMEN OF THE WORLD</a></h4>\n",
       " <div class=\"recent-news-meta\">\n",
       " <span class=\"post-date\"><i class=\"fa fa-file-text-o\"></i> <time class=\"entry-date published updated\" datetime=\"2019-02-15T04:01:31+00:00\">February 15, 2019</time></span>\n",
       " <span class=\"comments-link\"><i class=\"fa fa-comments-o\"></i> <a href=\"http://aitplacements.com/uncategorized/amazon-diversity-hiring-event-women-of-the-world/#comments\">No Comments</a></span>\n",
       " </div>\n",
       " <p>We invite Diverse candidates from Technology &amp; Business backgrounds to participate inAmazon’s Women of the world event on the account of International Women’s Day Top ...</p>\n",
       " <a class=\"btn btn-light btn-small\" href=\"http://aitplacements.com/uncategorized/amazon-diversity-hiring-event-women-of-the-world/\" title=\"Amazon diversity hiring event || WOMEN OF THE WORLD\">Read More</a>\n",
       " </div>, <div class=\"grid-item grid-sm-6 grid-md-4\">\n",
       " <h4 class=\"grid-title\"><a href=\"http://aitplacements.com/uncategorized/amdocs-hackfest-19/\" rel=\"bookmark\">Amdocs HackFest 19</a></h4>\n",
       " <div class=\"recent-news-meta\">\n",
       " <span class=\"post-date\"><i class=\"fa fa-file-text-o\"></i> <time class=\"entry-date published updated\" datetime=\"2019-02-15T03:55:40+00:00\">February 15, 2019</time></span>\n",
       " <span class=\"comments-link\"><i class=\"fa fa-comments-o\"></i> <a href=\"http://aitplacements.com/uncategorized/amdocs-hackfest-19/#comments\">No Comments</a></span>\n",
       " </div>\n",
       " <p>Amdocs India presents – “HackFest’19”, India’s versatile coding and hackathon competition for engineering graduates. Amdocsis conducting the 4th edition of its national-level hackathon. ...</p>\n",
       " <a class=\"btn btn-light btn-small\" href=\"http://aitplacements.com/uncategorized/amdocs-hackfest-19/\" title=\"Amdocs HackFest 19\">Read More</a>\n",
       " </div>]"
      ]
     },
     "execution_count": 55,
     "metadata": {},
     "output_type": "execute_result"
    }
   ],
   "source": [
    "t"
   ]
  },
  {
   "cell_type": "code",
   "execution_count": 87,
   "metadata": {},
   "outputs": [],
   "source": [
    "l=t[:4]"
   ]
  },
  {
   "cell_type": "code",
   "execution_count": 98,
   "metadata": {},
   "outputs": [],
   "source": [
    "l=t"
   ]
  },
  {
   "cell_type": "code",
   "execution_count": 99,
   "metadata": {},
   "outputs": [
    {
     "name": "stdout",
     "output_type": "stream",
     "text": [
      "5\n"
     ]
    }
   ],
   "source": [
    "num=len(l)\n",
    "print(num)"
   ]
  },
  {
   "cell_type": "code",
   "execution_count": 107,
   "metadata": {},
   "outputs": [],
   "source": [
    "def initilize_data():\n",
    "    k=0\n",
    "    title=[]\n",
    "    dates={}\n",
    "    description={}\n"
   ]
  },
  {
   "cell_type": "code",
   "execution_count": 109,
   "metadata": {},
   "outputs": [],
   "source": [
    "def compute_data(soup1):\n",
    "    global k,title,dates,description\n",
    "    t=soup1.find_all('div',attrs={'class':'grid-item grid-sm-6 grid-md-4'})\n",
    "    l=t\n",
    "    num=len(l)\n",
    "    print(num)\n",
    "    m=0\n",
    "    temp_title=[]\n",
    "    temp_dates={}\n",
    "    temp_description={}\n",
    "    for i in range(0,num):\n",
    "        if((l[i].find('h4').get_text()) not in title):\n",
    "            temp_title.append(l[i].find('h4').get_text())\n",
    "            temp_dates[temp_title[m]]=l[i].find('span').get_text()\n",
    "            temp_description[temp_title[m]]=l[i].find('p')\n",
    "            title.append(l[i].find('h4').get_text())\n",
    "            dates[title[k]]=l[i].find('span').get_text()\n",
    "            description[title[k]]=l[i].find('p')\n",
    "            k=k+1\n",
    "            m=m+1\n",
    "    return temp_title,temp_dates,temp_description"
   ]
  },
  {
   "cell_type": "code",
   "execution_count": null,
   "metadata": {},
   "outputs": [],
   "source": []
  },
  {
   "cell_type": "code",
   "execution_count": null,
   "metadata": {},
   "outputs": [],
   "source": []
  },
  {
   "cell_type": "code",
   "execution_count": 104,
   "metadata": {},
   "outputs": [
    {
     "data": {
      "text/plain": [
       "['WhiteSnow for C/IT sudents',\n",
       " 'Renishaw Pool Campus',\n",
       " 'Vodafone Interview – Postponed to 26 Feb',\n",
       " 'Amazon diversity hiring event || WOMEN OF THE WORLD',\n",
       " 'Amdocs HackFest 19']"
      ]
     },
     "execution_count": 104,
     "metadata": {},
     "output_type": "execute_result"
    }
   ],
   "source": [
    "title"
   ]
  },
  {
   "cell_type": "code",
   "execution_count": 1,
   "metadata": {},
   "outputs": [],
   "source": [
    "import requests\n",
    "from bs4 import BeautifulSoup\n",
    "from datetime import datetime\n",
    "from dateutil import parser\n",
    "\n",
    "headers ={\n",
    "     'user-agent':'Mozilla/5.0 (X11; Linux x86_64) AppleWebKit/537.36 (KHTML, like Gecko) Chrome/69.0.3497.100 Safari/537.36'\n",
    "}\n",
    "\n",
    "def login_website(username,password):\n",
    "    login_data={\n",
    "        'log':username,\n",
    "        'pwd':password,\n",
    "        'wp-submit':'Log In',\n",
    "        'redirect_to':'http://aitplacements.com/wp-admin/',\n",
    "        'testcookie':'1'\n",
    "\n",
    "    }\n",
    "    with requests.Session() as s:\n",
    "        url = \"http://aitplacements.com/wp-login.php\"\n",
    "        r = s.get(url,headers=headers)\n",
    "        soup =BeautifulSoup(r.content,'html.parser')\n",
    "        r = s.post(url, data=login_data, headers=headers)\n",
    "        soup1=BeautifulSoup(r.content,'html.parser')\n",
    "        #print(soup1)\n",
    "        return soup1\n",
    "\n",
    "def initilize_data():\n",
    "    global k,title,dates,description\n",
    "    title=[]\n",
    "    dates={}\n",
    "    description={}\n",
    "    k=0\n",
    "\n",
    "\n",
    "def compute_data(soup1):\n",
    "    global k,title,dates,description\n",
    "    t=soup1.find_all('div',attrs={'class':'grid-item grid-sm-6 grid-md-4'})\n",
    "    l=t\n",
    "    num=len(l)\n",
    "    print(num)\n",
    "    m=0\n",
    "    temp_title=[]\n",
    "    temp_dates={}\n",
    "    temp_description={}\n",
    "    for i in range(0,num):\n",
    "        if((l[i].find('h4').get_text()) not in title):\n",
    "            temp_title.append(l[i].find('h4').get_text())\n",
    "            temp_dates[temp_title[m]]=l[i].find('span').get_text()\n",
    "            temp_description[temp_title[m]]=l[i].find('p')\n",
    "            title.append(l[i].find('h4').get_text())\n",
    "            dates[title[k]]=l[i].find('span').get_text()\n",
    "            description[title[k]]=l[i].find('p')\n",
    "            k=k+1\n",
    "            m=m+1\n",
    "    print(title)\n",
    "    return temp_title,temp_dates,temp_description\n",
    "\n"
   ]
  },
  {
   "cell_type": "code",
   "execution_count": 2,
   "metadata": {},
   "outputs": [],
   "source": [
    "def send_email(dates,title,description):\n",
    "    import smtplib, ssl\n",
    "    from email.mime.text import MIMEText\n",
    "    from email.mime.multipart import MIMEMultipart\n",
    "    port = 465  # For SSL\n",
    "    smtp_server = \"smtp.gmail.com\"\n",
    "    sender_email = \"librarycommunity.2020@gmail.com\"  # Enter your address\n",
    "    receiver_email = \"gobillamothy85@gmail.com\"  # Enter receiver address\n",
    "    password = 'Apple@123'\n",
    "\n",
    "    message = MIMEMultipart(\"alternative\")\n",
    "    message[\"From\"] = sender_email\n",
    "    message[\"To\"] = receiver_email\n",
    "\n",
    "\n",
    "    message[\"Subject\"] = \"AIT PLACEMENTS NOTIFICATION\"\n",
    "    text = \"\"\"\n",
    "    Hello,\n",
    "    \"\"\"\n",
    "    html = \"\"\"\\\n",
    "    <html>\n",
    "    <body>\n",
    "    <p> {} <br>\n",
    "    There is a new notification about {} <br>\n",
    "    {} <br>\n",
    "    <a href=\"http://aitplacements.com/wp-login.php\">Placements Website Link</a>\n",
    "    </p>\n",
    "    </body>\n",
    "    </html>\n",
    "    \"\"\".format(dates,title,description)\n",
    "    part1 = MIMEText(text, \"plain\")\n",
    "    part2 = MIMEText(html, \"html\")\n",
    "    message.attach(part1)\n",
    "    message.attach(part2)\n",
    "\n",
    "    context = ssl.create_default_context()\n",
    "    with smtplib.SMTP_SSL(smtp_server, port, context=context) as server:\n",
    "        server.login(sender_email, password)\n",
    "        server.sendmail(sender_email, receiver_email, message.as_string())\n",
    "        print(\"mail sent\")\n"
   ]
  },
  {
   "cell_type": "code",
   "execution_count": 3,
   "metadata": {},
   "outputs": [],
   "source": [
    "def main():\n",
    "    soup1=login_website('gmothy','ait98@abcd')\n",
    "    #print(soup1)\n",
    "    temp_title,temp_dates,temp_description=compute_data(soup1)\n",
    "    print(temp_title)\n",
    "    for i in range(0,len(temp_title)):\n",
    "        send_email(temp_dates[temp_title[i]],temp_title[i],temp_description[temp_title[i]])\n",
    "\n"
   ]
  },
  {
   "cell_type": "code",
   "execution_count": 5,
   "metadata": {},
   "outputs": [
    {
     "name": "stdout",
     "output_type": "stream",
     "text": [
      "5\n",
      "['WhiteSnow for C/IT sudents', 'Renishaw Pool Campus', 'Vodafone Interview – Postponed to 26 Feb', 'Amazon diversity hiring event || WOMEN OF THE WORLD', 'Amdocs HackFest 19']\n",
      "['WhiteSnow for C/IT sudents', 'Renishaw Pool Campus', 'Vodafone Interview – Postponed to 26 Feb', 'Amazon diversity hiring event || WOMEN OF THE WORLD', 'Amdocs HackFest 19']\n",
      "mail sent\n",
      "mail sent\n",
      "mail sent\n",
      "mail sent\n",
      "mail sent\n",
      "5\n",
      "['WhiteSnow for C/IT sudents', 'Renishaw Pool Campus', 'Vodafone Interview – Postponed to 26 Feb', 'Amazon diversity hiring event || WOMEN OF THE WORLD', 'Amdocs HackFest 19']\n",
      "[]\n",
      "5\n",
      "['WhiteSnow for C/IT sudents', 'Renishaw Pool Campus', 'Vodafone Interview – Postponed to 26 Feb', 'Amazon diversity hiring event || WOMEN OF THE WORLD', 'Amdocs HackFest 19']\n",
      "[]\n",
      "5\n",
      "['WhiteSnow for C/IT sudents', 'Renishaw Pool Campus', 'Vodafone Interview – Postponed to 26 Feb', 'Amazon diversity hiring event || WOMEN OF THE WORLD', 'Amdocs HackFest 19']\n",
      "[]\n",
      "5\n",
      "['WhiteSnow for C/IT sudents', 'Renishaw Pool Campus', 'Vodafone Interview – Postponed to 26 Feb', 'Amazon diversity hiring event || WOMEN OF THE WORLD', 'Amdocs HackFest 19']\n",
      "[]\n"
     ]
    },
    {
     "ename": "KeyboardInterrupt",
     "evalue": "",
     "output_type": "error",
     "traceback": [
      "\u001b[0;31m---------------------------------------------------------------------------\u001b[0m",
      "\u001b[0;31mKeyboardInterrupt\u001b[0m                         Traceback (most recent call last)",
      "\u001b[0;32m<ipython-input-5-fc1d130a114d>\u001b[0m in \u001b[0;36m<module>\u001b[0;34m()\u001b[0m\n\u001b[1;32m      5\u001b[0m     \u001b[0;32mwhile\u001b[0m \u001b[0;34m(\u001b[0m\u001b[0;36m1\u001b[0m\u001b[0;34m)\u001b[0m\u001b[0;34m:\u001b[0m\u001b[0;34m\u001b[0m\u001b[0m\n\u001b[1;32m      6\u001b[0m         \u001b[0mmain\u001b[0m\u001b[0;34m(\u001b[0m\u001b[0;34m)\u001b[0m\u001b[0;34m\u001b[0m\u001b[0m\n\u001b[0;32m----> 7\u001b[0;31m         \u001b[0mtime\u001b[0m\u001b[0;34m.\u001b[0m\u001b[0msleep\u001b[0m\u001b[0;34m(\u001b[0m\u001b[0;36m60\u001b[0m\u001b[0;34m)\u001b[0m   \u001b[0;31m# Change this to number of seconds in a day\u001b[0m\u001b[0;34m\u001b[0m\u001b[0m\n\u001b[0m\u001b[1;32m      8\u001b[0m         \u001b[0;32mif\u001b[0m \u001b[0;34m(\u001b[0m\u001b[0mi\u001b[0m \u001b[0;34m==\u001b[0m \u001b[0;36m30\u001b[0m\u001b[0;34m)\u001b[0m\u001b[0;34m:\u001b[0m    \u001b[0;31m# make this 30 for a month\u001b[0m\u001b[0;34m\u001b[0m\u001b[0m\n\u001b[1;32m      9\u001b[0m             \u001b[0;32mbreak\u001b[0m\u001b[0;34m\u001b[0m\u001b[0m\n",
      "\u001b[0;31mKeyboardInterrupt\u001b[0m: "
     ]
    }
   ],
   "source": [
    "if __name__=='__main__':\n",
    "    import time\n",
    "    i=0\n",
    "    initilize_data()\n",
    "    while (1):\n",
    "        main()\n",
    "        time.sleep(60)   # Change this to number of seconds in a day\n",
    "        if (i == 30):    # make this 30 for a month\n",
    "            break\n",
    "            i = i + 1"
   ]
  },
  {
   "cell_type": "code",
   "execution_count": null,
   "metadata": {},
   "outputs": [],
   "source": []
  },
  {
   "cell_type": "code",
   "execution_count": null,
   "metadata": {},
   "outputs": [],
   "source": []
  }
 ],
 "metadata": {
  "kernelspec": {
   "display_name": "Python 3",
   "language": "python",
   "name": "python3"
  },
  "language_info": {
   "codemirror_mode": {
    "name": "ipython",
    "version": 3
   },
   "file_extension": ".py",
   "mimetype": "text/x-python",
   "name": "python",
   "nbconvert_exporter": "python",
   "pygments_lexer": "ipython3",
   "version": "3.6.5"
  }
 },
 "nbformat": 4,
 "nbformat_minor": 2
}
